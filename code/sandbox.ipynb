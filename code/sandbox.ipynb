{
  "cells": [
    {
      "cell_type": "markdown",
      "metadata": {
        "id": "view-in-github",
        "colab_type": "text"
      },
      "source": [
        "<a href=\"https://colab.research.google.com/github/DeLucca990/Machine-Learning_Project/blob/main/code/sandbox.ipynb\" target=\"_parent\"><img src=\"https://colab.research.google.com/assets/colab-badge.svg\" alt=\"Open In Colab\"/></a>"
      ]
    },
    {
      "cell_type": "code",
      "source": [
        "#!git clone https://github.com/DeLucca990/Machine-Learning_Project.git"
      ],
      "metadata": {
        "id": "7fUsFqztceA6",
        "outputId": "b68337fd-0fd8-433a-c648-860569b44809",
        "colab": {
          "base_uri": "https://localhost:8080/"
        }
      },
      "execution_count": 14,
      "outputs": [
        {
          "output_type": "stream",
          "name": "stdout",
          "text": [
            "Cloning into 'Machine-Learning_Project'...\n",
            "remote: Enumerating objects: 987, done.\u001b[K\n",
            "remote: Counting objects: 100% (987/987), done.\u001b[K\n",
            "remote: Compressing objects: 100% (979/979), done.\u001b[K\n",
            "remote: Total 987 (delta 5), reused 986 (delta 4), pack-reused 0 (from 0)\u001b[K\n",
            "Receiving objects: 100% (987/987), 5.89 MiB | 10.59 MiB/s, done.\n",
            "Resolving deltas: 100% (5/5), done.\n"
          ]
        }
      ]
    },
    {
      "cell_type": "code",
      "source": [
        "base_path = \"/content/Machine-Learning_Project\""
      ],
      "metadata": {
        "id": "HQsd_0NceGU4"
      },
      "execution_count": 19,
      "outputs": []
    },
    {
      "cell_type": "code",
      "execution_count": 20,
      "metadata": {
        "id": "pV9WsvuKZBRj"
      },
      "outputs": [],
      "source": [
        "from PIL import Image\n",
        "from pathlib import Path\n",
        "\n",
        "def load_images():\n",
        "    image_paths = list(Path(f'{base_path}/images').rglob('*.jpg'))\n",
        "    images = []\n",
        "\n",
        "    for image_path in image_paths:\n",
        "        id = image_path.name.split('_')[1].split('.')[0]\n",
        "        with Image.open(image_path) as img:\n",
        "            img = img.resize((100, 100))\n",
        "            images.append((int(id),img))\n",
        "    return images\n",
        "\n",
        "images = load_images()\n",
        ""
      ]
    },
    {
      "cell_type": "code",
      "execution_count": null,
      "metadata": {
        "id": "NxzfRTj7ZBRj"
      },
      "outputs": [],
      "source": [
        "images"
      ]
    },
    {
      "cell_type": "code",
      "execution_count": 22,
      "metadata": {
        "id": "uBWt8YFsZBRj"
      },
      "outputs": [],
      "source": [
        "import pandas as pd\n",
        "\n",
        "# Carregar dados\n",
        "dados = pd.read_excel(f'{base_path}/Tables/processed_tables/dados_limpos.xlsx')\n",
        "\n"
      ]
    },
    {
      "cell_type": "code",
      "execution_count": 23,
      "metadata": {
        "id": "vQkM9BFiZBRk"
      },
      "outputs": [],
      "source": [
        "images_df = pd.DataFrame(images, columns=['id','image'])\n"
      ]
    },
    {
      "cell_type": "code",
      "execution_count": 24,
      "metadata": {
        "id": "2-Snip5AZBRk"
      },
      "outputs": [],
      "source": [
        "df = dados.join(images_df.set_index('id'), on='id')"
      ]
    },
    {
      "cell_type": "code",
      "execution_count": 25,
      "metadata": {
        "id": "zJ5-Gwl_ZBRl"
      },
      "outputs": [],
      "source": [
        "X = df['image']\n",
        "y = df['industryName']"
      ]
    },
    {
      "cell_type": "code",
      "execution_count": 26,
      "metadata": {
        "id": "JO1yXkrYZBRl",
        "outputId": "b04a8557-0980-4b61-c2d6-f96c37d8bd30",
        "colab": {
          "base_uri": "https://localhost:8080/"
        }
      },
      "outputs": [
        {
          "output_type": "execute_result",
          "data": {
            "text/plain": [
              "[]"
            ]
          },
          "metadata": {},
          "execution_count": 26
        }
      ],
      "source": [
        "import tensorflow as tf\n",
        "\n",
        "tf.config.list_physical_devices('GPU')"
      ]
    },
    {
      "cell_type": "code",
      "execution_count": null,
      "metadata": {
        "id": "0esB6aJ2ZBRl"
      },
      "outputs": [],
      "source": []
    }
  ],
  "metadata": {
    "kernelspec": {
      "display_name": "Python 3",
      "language": "python",
      "name": "python3"
    },
    "language_info": {
      "codemirror_mode": {
        "name": "ipython",
        "version": 3
      },
      "file_extension": ".py",
      "mimetype": "text/x-python",
      "name": "python",
      "nbconvert_exporter": "python",
      "pygments_lexer": "ipython3",
      "version": "3.10.11"
    },
    "colab": {
      "provenance": [],
      "include_colab_link": true
    }
  },
  "nbformat": 4,
  "nbformat_minor": 0
}